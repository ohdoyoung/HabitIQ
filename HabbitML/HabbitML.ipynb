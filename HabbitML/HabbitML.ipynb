{
 "cells": [
  {
   "cell_type": "code",
   "execution_count": 5,
   "id": "e2e5a4f6-28dd-4d1c-9dc3-caf6bccaaaa7",
   "metadata": {},
   "outputs": [
    {
     "ename": "ModuleNotFoundError",
     "evalue": "No module named 'onnx'",
     "output_type": "error",
     "traceback": [
      "\u001b[0;31m---------------------------------------------------------------------------\u001b[0m",
      "\u001b[0;31mModuleNotFoundError\u001b[0m                       Traceback (most recent call last)",
      "Cell \u001b[0;32mIn[5], line 6\u001b[0m\n\u001b[1;32m      4\u001b[0m \u001b[38;5;28;01mfrom\u001b[39;00m \u001b[38;5;21;01msklearn\u001b[39;00m\u001b[38;5;21;01m.\u001b[39;00m\u001b[38;5;21;01mensemble\u001b[39;00m \u001b[38;5;28;01mimport\u001b[39;00m RandomForestClassifier\n\u001b[1;32m      5\u001b[0m \u001b[38;5;28;01mfrom\u001b[39;00m \u001b[38;5;21;01msklearn\u001b[39;00m\u001b[38;5;21;01m.\u001b[39;00m\u001b[38;5;21;01mpreprocessing\u001b[39;00m \u001b[38;5;28;01mimport\u001b[39;00m LabelEncoder, StandardScaler\n\u001b[0;32m----> 6\u001b[0m \u001b[38;5;28;01mimport\u001b[39;00m \u001b[38;5;21;01monnx\u001b[39;00m\n\u001b[1;32m      7\u001b[0m \u001b[38;5;28;01mimport\u001b[39;00m \u001b[38;5;21;01mskl2onnx\u001b[39;00m\n\u001b[1;32m      8\u001b[0m \u001b[38;5;28;01mfrom\u001b[39;00m \u001b[38;5;21;01mskl2onnx\u001b[39;00m \u001b[38;5;28;01mimport\u001b[39;00m convert_sklearn\n",
      "\u001b[0;31mModuleNotFoundError\u001b[0m: No module named 'onnx'"
     ]
    }
   ],
   "source": [
    "import pandas as pd\n",
    "import numpy as np\n",
    "from sklearn.model_selection import train_test_split\n",
    "from sklearn.ensemble import RandomForestClassifier\n",
    "from sklearn.preprocessing import LabelEncoder, StandardScaler\n",
    "import onnx\n",
    "import skl2onnx\n",
    "from skl2onnx import convert_sklearn\n",
    "from skl2onnx.common.data_types import FloatTensorType\n",
    "import onnx_coreml  # onnx-coreml 라이브러리 사용\n",
    "\n",
    "# 샘플 사용자 습관 데이터 생성\n",
    "data = {\n",
    "    'habit_name': ['명상', '운동', '독서', '물 마시기', '일기 쓰기', '요가', '감사일기', '달리기', '요리', '청소'],\n",
    "    'completed_count': [5, 10, 3, 8, 4, 2, 7, 6, 9, 1],\n",
    "    'average_time_spent': [10, 45, 20, 5, 15, 30, 12, 50, 40, 8],  # 분 단위\n",
    "    'preferred_time_of_day': ['아침', '저녁', '아침', '오후', '저녁', '오전', '오전', '오후', '저녁', '아침'],\n",
    "    'habit_category': ['건강', '운동', '지식', '건강', '마음', '운동', '마음', '운동', '생활', '생활'],\n",
    "    'recommended': [1, 1, 0, 1, 0, 0, 1, 1, 1, 0]\n",
    "}\n",
    "\n",
    "df = pd.DataFrame(data)\n",
    "\n",
    "# 문자열 데이터를 숫자로 변환\n",
    "label_encoders = {}\n",
    "for col in ['preferred_time_of_day', 'habit_category']:\n",
    "    le = LabelEncoder()\n",
    "    df[col] = le.fit_transform(df[col])\n",
    "    label_encoders[col] = le\n",
    "\n",
    "# 특성과 라벨 분리\n",
    "X = df[['completed_count', 'average_time_spent', 'preferred_time_of_day', 'habit_category']]\n",
    "y = df['recommended']\n",
    "\n",
    "# 데이터 정규화\n",
    "scaler = StandardScaler()\n",
    "X_scaled = scaler.fit_transform(X)\n",
    "\n",
    "# 훈련 데이터와 테스트 데이터 분리\n",
    "X_train, X_test, y_train, y_test = train_test_split(X_scaled, y, test_size=0.2, random_state=42)\n",
    "\n",
    "# 랜덤 포레스트 모델 학습\n",
    "model = RandomForestClassifier(n_estimators=50, max_depth=5, random_state=42)\n",
    "model.fit(X_train, y_train)\n",
    "\n",
    "# ✅ ONNX 모델 변환\n",
    "initial_type = [('input', FloatTensorType([None, X.shape[1]]))]\n",
    "onnx_model = convert_sklearn(model, initial_types=initial_type)\n",
    "\n",
    "# ONNX 모델 저장\n",
    "onnx_model_path = \"HabitiQ.onnx\"\n",
    "onnx.save_model(onnx_model, onnx_model_path)\n",
    "\n",
    "# ✅ Core ML 모델 변환 (onnx-coreml 사용)\n",
    "# ONNX 모델 로드\n",
    "onnx_model = onnx.load(onnx_model_path)\n",
    "\n",
    "# ONNX 모델을 Core ML 모델로 변환\n",
    "coreml_model = onnx_coreml.convert(onnx_model)\n",
    "\n",
    "# Core ML 모델 저장\n",
    "coreml_model.save(\"HabitiQ.mlmodel\")\n",
    "\n",
    "print(\"✅ Core ML 변환 완료! HabitiQ.mlmodel 저장됨.\")"
   ]
  },
  {
   "cell_type": "code",
   "execution_count": 15,
   "id": "03e64f61-4310-422e-9aa6-5a67da9111db",
   "metadata": {},
   "outputs": [
    {
     "name": "stdout",
     "output_type": "stream",
     "text": [
      "Collecting onnx\n",
      "  Using cached onnx-1.17.0-cp312-cp312-macosx_12_0_universal2.whl.metadata (16 kB)\n",
      "Requirement already satisfied: numpy>=1.20 in /opt/anaconda3/lib/python3.12/site-packages (from onnx) (1.26.4)\n",
      "Requirement already satisfied: protobuf>=3.20.2 in /opt/anaconda3/lib/python3.12/site-packages (from onnx) (3.20.2)\n",
      "Using cached onnx-1.17.0-cp312-cp312-macosx_12_0_universal2.whl (16.7 MB)\n",
      "Installing collected packages: onnx\n",
      "Successfully installed onnx-1.17.0\n",
      "Note: you may need to restart the kernel to use updated packages.\n"
     ]
    }
   ],
   "source": [
    "pip install onnx"
   ]
  },
  {
   "cell_type": "code",
   "execution_count": 17,
   "id": "b8c67ca5-7ce2-492d-ba04-7149b548f363",
   "metadata": {},
   "outputs": [
    {
     "name": "stdout",
     "output_type": "stream",
     "text": [
      "Collecting skl2onnx\n",
      "  Using cached skl2onnx-1.18.0-py2.py3-none-any.whl.metadata (3.2 kB)\n",
      "Requirement already satisfied: onnx>=1.2.1 in /opt/anaconda3/lib/python3.12/site-packages (from skl2onnx) (1.17.0)\n",
      "Requirement already satisfied: scikit-learn>=1.1 in /opt/anaconda3/lib/python3.12/site-packages (from skl2onnx) (1.5.1)\n",
      "Requirement already satisfied: onnxconverter-common>=1.7.0 in /opt/anaconda3/lib/python3.12/site-packages (from skl2onnx) (1.14.0)\n",
      "Requirement already satisfied: numpy>=1.20 in /opt/anaconda3/lib/python3.12/site-packages (from onnx>=1.2.1->skl2onnx) (1.26.4)\n",
      "Requirement already satisfied: protobuf>=3.20.2 in /opt/anaconda3/lib/python3.12/site-packages (from onnx>=1.2.1->skl2onnx) (3.20.2)\n",
      "Requirement already satisfied: packaging in /opt/anaconda3/lib/python3.12/site-packages (from onnxconverter-common>=1.7.0->skl2onnx) (24.1)\n",
      "Requirement already satisfied: scipy>=1.6.0 in /opt/anaconda3/lib/python3.12/site-packages (from scikit-learn>=1.1->skl2onnx) (1.13.1)\n",
      "Requirement already satisfied: joblib>=1.2.0 in /opt/anaconda3/lib/python3.12/site-packages (from scikit-learn>=1.1->skl2onnx) (1.4.2)\n",
      "Requirement already satisfied: threadpoolctl>=3.1.0 in /opt/anaconda3/lib/python3.12/site-packages (from scikit-learn>=1.1->skl2onnx) (3.5.0)\n",
      "Using cached skl2onnx-1.18.0-py2.py3-none-any.whl (300 kB)\n",
      "Installing collected packages: skl2onnx\n",
      "Successfully installed skl2onnx-1.18.0\n",
      "Note: you may need to restart the kernel to use updated packages.\n"
     ]
    }
   ],
   "source": [
    "pip install skl2onnx\n"
   ]
  },
  {
   "cell_type": "code",
   "execution_count": 13,
   "id": "06edddde-ee53-4a4c-866f-70c95b8c1c80",
   "metadata": {
    "scrolled": true
   },
   "outputs": [
    {
     "ename": "SyntaxError",
     "evalue": "invalid syntax (541319849.py, line 1)",
     "output_type": "error",
     "traceback": [
      "\u001b[0;36m  Cell \u001b[0;32mIn[13], line 1\u001b[0;36m\u001b[0m\n\u001b[0;31m    pip install protobuf==3.20.2\u001b[0m\n\u001b[0m        ^\u001b[0m\n\u001b[0;31mSyntaxError\u001b[0m\u001b[0;31m:\u001b[0m invalid syntax\n"
     ]
    }
   ],
   "source": [
    "pip install protobuf==3.20.2\n",
    "pip install coremltools\n",
    "pip install onnx-coreml\n",
    "pip install onnxconverter-common"
   ]
  }
 ],
 "metadata": {
  "kernelspec": {
   "display_name": "Python [conda env:base] *",
   "language": "python",
   "name": "conda-base-py"
  },
  "language_info": {
   "codemirror_mode": {
    "name": "ipython",
    "version": 3
   },
   "file_extension": ".py",
   "mimetype": "text/x-python",
   "name": "python",
   "nbconvert_exporter": "python",
   "pygments_lexer": "ipython3",
   "version": "3.12.7"
  }
 },
 "nbformat": 4,
 "nbformat_minor": 5
}
